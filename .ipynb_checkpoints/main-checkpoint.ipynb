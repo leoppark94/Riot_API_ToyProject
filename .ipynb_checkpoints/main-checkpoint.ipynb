{
 "cells": [
  {
   "cell_type": "markdown",
   "id": "2a0651ea",
   "metadata": {},
   "source": [
    "Toy Project \n",
    "\n",
    "롤 부캐 측정해보기!"
   ]
  },
  {
   "cell_type": "code",
   "execution_count": 1,
   "id": "7a66ec0d",
   "metadata": {},
   "outputs": [],
   "source": [
    "import requests\n",
    "import get_user_id\n",
    "import champion_reader"
   ]
  },
  {
   "cell_type": "code",
   "execution_count": 2,
   "id": "adbbcef7",
   "metadata": {},
   "outputs": [],
   "source": [
    "Key = 'RGAPI-0b4437fe-0bb2-42c0-afb8-4d581eb0b36c'\n",
    "Summoner_ID = \"불질러\""
   ]
  },
  {
   "cell_type": "code",
   "execution_count": 3,
   "id": "b6850701",
   "metadata": {},
   "outputs": [],
   "source": [
    "get_user_id = get_user_id.get_user_id"
   ]
  },
  {
   "cell_type": "code",
   "execution_count": 4,
   "id": "90c9a074",
   "metadata": {},
   "outputs": [],
   "source": [
    "encryptedAccountId = get_user_id(Summoner_ID, Key)"
   ]
  },
  {
   "cell_type": "code",
   "execution_count": 5,
   "id": "63063019",
   "metadata": {},
   "outputs": [
    {
     "data": {
      "text/plain": [
       "'GBjMoFSN9TzOqKWXqA9vMHjmO0TSAQ2f2E2tvx-DKIf8ctY'"
      ]
     },
     "execution_count": 5,
     "metadata": {},
     "output_type": "execute_result"
    }
   ],
   "source": [
    "encryptedAccountId"
   ]
  },
  {
   "cell_type": "code",
   "execution_count": 6,
   "id": "a1d14094",
   "metadata": {},
   "outputs": [],
   "source": [
    "url = \"https://kr.api.riotgames.com/lol/spectator/v4/active-games/by-summoner/\" + encryptedAccountId + \"?api_key=\" + Key"
   ]
  },
  {
   "cell_type": "code",
   "execution_count": 7,
   "id": "b10d1e23",
   "metadata": {},
   "outputs": [
    {
     "data": {
      "text/plain": [
       "'https://kr.api.riotgames.com/lol/spectator/v4/active-games/by-summoner/GBjMoFSN9TzOqKWXqA9vMHjmO0TSAQ2f2E2tvx-DKIf8ctY?api_key=RGAPI-0b4437fe-0bb2-42c0-afb8-4d581eb0b36c'"
      ]
     },
     "execution_count": 7,
     "metadata": {},
     "output_type": "execute_result"
    }
   ],
   "source": [
    "url"
   ]
  },
  {
   "cell_type": "code",
   "execution_count": 8,
   "id": "b5577ce8",
   "metadata": {},
   "outputs": [],
   "source": [
    "test = requests.get(url)"
   ]
  },
  {
   "cell_type": "code",
   "execution_count": 9,
   "id": "a3b25b63",
   "metadata": {},
   "outputs": [
    {
     "data": {
      "text/plain": [
       "<Response [200]>"
      ]
     },
     "execution_count": 9,
     "metadata": {},
     "output_type": "execute_result"
    }
   ],
   "source": [
    "test"
   ]
  },
  {
   "cell_type": "code",
   "execution_count": 10,
   "id": "322fb3a1",
   "metadata": {},
   "outputs": [],
   "source": [
    "try:\n",
    "    team = test.json()['participants']\n",
    "except:\n",
    "    team = \"현재 게임중이 아닙니다\""
   ]
  },
  {
   "cell_type": "code",
   "execution_count": 11,
   "id": "4a3d761a",
   "metadata": {},
   "outputs": [
    {
     "data": {
      "text/plain": [
       "[{'teamId': 100,\n",
       "  'spell1Id': 4,\n",
       "  'spell2Id': 14,\n",
       "  'championId': 80,\n",
       "  'profileIconId': 4018,\n",
       "  'summonerName': '98kolo',\n",
       "  'bot': False,\n",
       "  'summonerId': 'RebJiOIaaOrTO8ruJqwKw3CN9IpBNQjYVkkIxP3L7oj8hYw_5_negbzhzA',\n",
       "  'gameCustomizationObjects': [],\n",
       "  'perks': {'perkIds': [8010, 9111, 9105, 8014, 8352, 8345, 5008, 5008, 5002],\n",
       "   'perkStyle': 8000,\n",
       "   'perkSubStyle': 8300}},\n",
       " {'teamId': 100,\n",
       "  'spell1Id': 4,\n",
       "  'spell2Id': 11,\n",
       "  'championId': 163,\n",
       "  'profileIconId': 3542,\n",
       "  'summonerName': 'Marzss9',\n",
       "  'bot': False,\n",
       "  'summonerId': '1CgIhZxamsRHwM78aQgwN3krmR7027pShu5VW91wB1lx1VzhxBjwCJRhMw',\n",
       "  'gameCustomizationObjects': [],\n",
       "  'perks': {'perkIds': [8128, 8143, 8138, 8135, 8275, 8233, 5005, 5008, 5002],\n",
       "   'perkStyle': 8100,\n",
       "   'perkSubStyle': 8200}},\n",
       " {'teamId': 100,\n",
       "  'spell1Id': 4,\n",
       "  'spell2Id': 7,\n",
       "  'championId': 22,\n",
       "  'profileIconId': 20,\n",
       "  'summonerName': '마케나이데1',\n",
       "  'bot': False,\n",
       "  'summonerId': 'o9XGlrGWzB3eZAn9PvVOblTj-6FYJiba7AAsPQsmd8aytLE',\n",
       "  'gameCustomizationObjects': [],\n",
       "  'perks': {'perkIds': [8008, 8009, 9104, 8299, 8345, 8410, 5005, 5008, 5003],\n",
       "   'perkStyle': 8000,\n",
       "   'perkSubStyle': 8300}},\n",
       " {'teamId': 100,\n",
       "  'spell1Id': 4,\n",
       "  'spell2Id': 12,\n",
       "  'championId': 114,\n",
       "  'profileIconId': 5025,\n",
       "  'summonerName': '거짓말안그럼',\n",
       "  'bot': False,\n",
       "  'summonerId': 'faYy-Iejo-_9KbzxdjtxpKkxPRDNkf08il3uosynpBuUhqxq',\n",
       "  'gameCustomizationObjects': [],\n",
       "  'perks': {'perkIds': [8010, 9111, 9104, 8014, 8473, 8446, 5008, 5008, 5002],\n",
       "   'perkStyle': 8000,\n",
       "   'perkSubStyle': 8400}},\n",
       " {'teamId': 100,\n",
       "  'spell1Id': 3,\n",
       "  'spell2Id': 4,\n",
       "  'championId': 432,\n",
       "  'profileIconId': 4657,\n",
       "  'summonerName': '가사왕 김주부',\n",
       "  'bot': False,\n",
       "  'summonerId': 'lOJZ1g3JDYZ-gAfZue_j5tvMXDCpj2nUx2brD83Eh_JmCQ',\n",
       "  'gameCustomizationObjects': [],\n",
       "  'perks': {'perkIds': [8465, 8463, 8429, 8451, 8138, 8105, 5007, 5008, 5001],\n",
       "   'perkStyle': 8400,\n",
       "   'perkSubStyle': 8100}},\n",
       " {'teamId': 200,\n",
       "  'spell1Id': 11,\n",
       "  'spell2Id': 4,\n",
       "  'championId': 106,\n",
       "  'profileIconId': 1458,\n",
       "  'summonerName': '불질러',\n",
       "  'bot': False,\n",
       "  'summonerId': 'GBjMoFSN9TzOqKWXqA9vMHjmO0TSAQ2f2E2tvx-DKIf8ctY',\n",
       "  'gameCustomizationObjects': [],\n",
       "  'perks': {'perkIds': [8005, 9111, 9105, 8299, 8313, 8347, 5005, 5008, 5002],\n",
       "   'perkStyle': 8000,\n",
       "   'perkSubStyle': 8300}},\n",
       " {'teamId': 200,\n",
       "  'spell1Id': 14,\n",
       "  'spell2Id': 4,\n",
       "  'championId': 48,\n",
       "  'profileIconId': 4903,\n",
       "  'summonerName': '날건들지마십쇼',\n",
       "  'bot': False,\n",
       "  'summonerId': 'FSPj1OolN5GnHFmhap4envWrOfA5MqiIvFQ3CC87KeliIZJdL2_zs551Rg',\n",
       "  'gameCustomizationObjects': [],\n",
       "  'perks': {'perkIds': [8010, 9111, 9105, 8299, 8444, 8242, 5005, 5008, 5002],\n",
       "   'perkStyle': 8000,\n",
       "   'perkSubStyle': 8400}},\n",
       " {'teamId': 200,\n",
       "  'spell1Id': 14,\n",
       "  'spell2Id': 4,\n",
       "  'championId': 117,\n",
       "  'profileIconId': 3368,\n",
       "  'summonerName': 'lehen',\n",
       "  'bot': False,\n",
       "  'summonerId': 'Pyq0mGCTSYU9pLKS6-DzPjFDPvRfwySB7wreeDEVK4wSguk',\n",
       "  'gameCustomizationObjects': [],\n",
       "  'perks': {'perkIds': [8465, 8463, 8473, 8242, 8347, 8321, 5005, 5002, 5003],\n",
       "   'perkStyle': 8400,\n",
       "   'perkSubStyle': 8300}},\n",
       " {'teamId': 200,\n",
       "  'spell1Id': 7,\n",
       "  'spell2Id': 4,\n",
       "  'championId': 96,\n",
       "  'profileIconId': 29,\n",
       "  'summonerName': 'yOshizZz',\n",
       "  'bot': False,\n",
       "  'summonerId': 'AurFfC7qxUOYLHgZmuEeXy9-fCE7jmeWWkxs8P2agXgHabA',\n",
       "  'gameCustomizationObjects': [],\n",
       "  'perks': {'perkIds': [9923, 8139, 8138, 8135, 8009, 9104, 5005, 5008, 5002],\n",
       "   'perkStyle': 8100,\n",
       "   'perkSubStyle': 8000}},\n",
       " {'teamId': 200,\n",
       "  'spell1Id': 12,\n",
       "  'spell2Id': 4,\n",
       "  'championId': 126,\n",
       "  'profileIconId': 4928,\n",
       "  'summonerName': 'wzsgsb',\n",
       "  'bot': False,\n",
       "  'summonerId': 'WhRxKA0PbelcKfxMyWZAaxwplkxnPcjUbvwfBNTZ_01XJQh63pOGET-0jg',\n",
       "  'gameCustomizationObjects': [],\n",
       "  'perks': {'perkIds': [8010, 8009, 9104, 8299, 8304, 8345, 5008, 5008, 5002],\n",
       "   'perkStyle': 8000,\n",
       "   'perkSubStyle': 8300}}]"
      ]
     },
     "execution_count": 11,
     "metadata": {},
     "output_type": "execute_result"
    }
   ],
   "source": [
    "team"
   ]
  },
  {
   "cell_type": "code",
   "execution_count": 12,
   "id": "d6711081",
   "metadata": {},
   "outputs": [
    {
     "ename": "KeyError",
     "evalue": "'teamid'",
     "output_type": "error",
     "traceback": [
      "\u001b[1;31m---------------------------------------------------------------------------\u001b[0m",
      "\u001b[1;31mKeyError\u001b[0m                                  Traceback (most recent call last)",
      "\u001b[1;32m<ipython-input-12-32bd3bbb193b>\u001b[0m in \u001b[0;36m<module>\u001b[1;34m\u001b[0m\n\u001b[0;32m      2\u001b[0m \u001b[0mtemp2\u001b[0m \u001b[1;33m=\u001b[0m \u001b[1;33m[\u001b[0m\u001b[1;33m]\u001b[0m\u001b[1;33m\u001b[0m\u001b[1;33m\u001b[0m\u001b[0m\n\u001b[0;32m      3\u001b[0m \u001b[1;32mfor\u001b[0m \u001b[0mi\u001b[0m \u001b[1;32min\u001b[0m \u001b[0mteam\u001b[0m\u001b[1;33m:\u001b[0m\u001b[1;33m\u001b[0m\u001b[1;33m\u001b[0m\u001b[0m\n\u001b[1;32m----> 4\u001b[1;33m     \u001b[1;32mif\u001b[0m \u001b[0mi\u001b[0m\u001b[1;33m[\u001b[0m\u001b[1;34m'teamid'\u001b[0m\u001b[1;33m]\u001b[0m\u001b[1;33m==\u001b[0m\u001b[1;36m100\u001b[0m\u001b[1;33m:\u001b[0m\u001b[1;33m\u001b[0m\u001b[1;33m\u001b[0m\u001b[0m\n\u001b[0m\u001b[0;32m      5\u001b[0m         \u001b[0mtemp1\u001b[0m\u001b[1;33m.\u001b[0m\u001b[0mappend\u001b[0m\u001b[1;33m(\u001b[0m\u001b[0mi\u001b[0m\u001b[1;33m)\u001b[0m\u001b[1;33m\u001b[0m\u001b[1;33m\u001b[0m\u001b[0m\n\u001b[0;32m      6\u001b[0m \u001b[1;33m\u001b[0m\u001b[0m\n",
      "\u001b[1;31mKeyError\u001b[0m: 'teamid'"
     ]
    }
   ],
   "source": [
    "temp1 = []\n",
    "temp2 = []\n",
    "for i in team:\n",
    "    if i['teamid']==100:\n",
    "        temp1.append(i)\n",
    "        \n",
    "    else:\n",
    "        temp2.append(i)\n",
    "        \n",
    "print(temp1)\n",
    "print(temp2)    "
   ]
  },
  {
   "cell_type": "code",
   "execution_count": null,
   "id": "2af349df",
   "metadata": {},
   "outputs": [],
   "source": [
    "champion_name = champion_reader.champion_name"
   ]
  },
  {
   "cell_type": "code",
   "execution_count": null,
   "id": "6cad9f3f",
   "metadata": {},
   "outputs": [],
   "source": [
    "champion_name(131)"
   ]
  },
  {
   "cell_type": "code",
   "execution_count": null,
   "id": "5d0fddda",
   "metadata": {},
   "outputs": [],
   "source": []
  }
 ],
 "metadata": {
  "kernelspec": {
   "display_name": "Python 3",
   "language": "python",
   "name": "python3"
  },
  "language_info": {
   "codemirror_mode": {
    "name": "ipython",
    "version": 3
   },
   "file_extension": ".py",
   "mimetype": "text/x-python",
   "name": "python",
   "nbconvert_exporter": "python",
   "pygments_lexer": "ipython3",
   "version": "3.8.3"
  }
 },
 "nbformat": 4,
 "nbformat_minor": 5
}

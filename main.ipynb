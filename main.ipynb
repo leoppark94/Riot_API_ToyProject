{
 "cells": [
  {
   "cell_type": "markdown",
   "id": "2a0651ea",
   "metadata": {},
   "source": [
    "Toy Project \n",
    "\n",
    "롤 부캐 측정해보기!"
   ]
  },
  {
   "cell_type": "code",
   "execution_count": 1,
   "id": "7a66ec0d",
   "metadata": {},
   "outputs": [],
   "source": [
    "import requests\n",
    "import pandas as pd\n",
    "\n",
    "import get_user_id # 암호화된 유저아이디랑 puuid를 받아옴\n",
    "import champion_reader # 숫자로 반환되는 챔피언명을 알수있게 바꿔줌\n",
    "import match_history # puuid 를 기준으로 solo Rank 5vs5 match ID 를 받아옴"
   ]
  },
  {
   "cell_type": "code",
   "execution_count": 2,
   "id": "adbbcef7",
   "metadata": {},
   "outputs": [],
   "source": [
    "Key = 'RGAPI-031a06b5-05c1-4164-8db5-ea1c1a49a666'\n",
    "summonerName = \"예민하네화나았네\""
   ]
  },
  {
   "cell_type": "code",
   "execution_count": 3,
   "id": "b6850701",
   "metadata": {},
   "outputs": [],
   "source": [
    "get_user_id = get_user_id.get_user_id\n",
    "match_history = match_history.match_history"
   ]
  },
  {
   "cell_type": "code",
   "execution_count": 4,
   "id": "90c9a074",
   "metadata": {},
   "outputs": [
    {
     "name": "stdout",
     "output_type": "stream",
     "text": [
      "결과\n",
      "{'id': 'bShKU1-bJ982IaDWoT1GvOAXWPtaSEcCuQo8PzHwpg1rXu0', 'accountId': 'miHotWD1yh8ha6Du4EF4siTlWmcmw0Bmu7Uz_K7GFN8GDNTygu91Em4t', 'puuid': 'qucaNektwZd0kA88AwjFkixZ0AgQAdACq6H-wOWnYlsiqhD_NQUytw0iv98X_1IH6rTYuDsEOCzMAQ', 'name': '예민하네화나았네', 'profileIconId': 4568, 'revisionDate': 1626862836000, 'summonerLevel': 192}\n"
     ]
    }
   ],
   "source": [
    "try:\n",
    "    encryptedAccountId, puuid = get_user_id(summonerName, Key)\n",
    "except:\n",
    "    print(\"ID를 제대로 받아오지 못했습니다\")"
   ]
  },
  {
   "cell_type": "code",
   "execution_count": 5,
   "id": "a1d14094",
   "metadata": {},
   "outputs": [],
   "source": [
    "# 관전 정보 조회\n",
    "url = \"https://kr.api.riotgames.com/lol/spectator/v4/active-games/by-summoner/\" + encryptedAccountId + \"?api_key=\" + Key"
   ]
  },
  {
   "cell_type": "code",
   "execution_count": 6,
   "id": "b5577ce8",
   "metadata": {},
   "outputs": [],
   "source": [
    "test = requests.get(url)"
   ]
  },
  {
   "cell_type": "code",
   "execution_count": 7,
   "id": "322fb3a1",
   "metadata": {},
   "outputs": [],
   "source": [
    "try:\n",
    "    team = test.json()['participants']\n",
    "except:\n",
    "    print(\"현재 게임중이 아닙니다\")"
   ]
  },
  {
   "cell_type": "code",
   "execution_count": 8,
   "id": "d6711081",
   "metadata": {},
   "outputs": [
    {
     "name": "stdout",
     "output_type": "stream",
     "text": [
      "{'teamId': 100, 'spell1Id': 7, 'spell2Id': 4, 'championId': 429, 'profileIconId': 19, 'summonerName': 'YTMCOXQHRLN', 'bot': False, 'summonerId': '26TRnNsNjF2ENUrFCvkpSJ6XdpaPHEnTMum62DZZYHa_yo3JsLDmxwYNGA', 'gameCustomizationObjects': [], 'perks': {'perkIds': [9923, 8139, 8138, 8135, 8345, 8347, 5005, 5008, 5002], 'perkStyle': 8100, 'perkSubStyle': 8300}}\n",
      "{'teamId': 100, 'spell1Id': 4, 'spell2Id': 14, 'championId': 48, 'profileIconId': 4928, 'summonerName': '지는게싫다', 'bot': False, 'summonerId': 'Xhz_MfGX9k_O08TQ-Z60S-UFlNloohp_QmBjzxMJSeyKM1AkKwAtgN6B7w', 'gameCustomizationObjects': [], 'perks': {'perkIds': [9923, 8126, 8136, 8105, 8345, 8352, 5005, 5008, 5002], 'perkStyle': 8100, 'perkSubStyle': 8300}}\n",
      "{'teamId': 100, 'spell1Id': 12, 'spell2Id': 4, 'championId': 58, 'profileIconId': 4903, 'summonerName': '나락 캐리', 'bot': False, 'summonerId': 'gGv5pZks9mUtLnadLO4e6oumCGl0ihZDe5FxhHmQbxLP8wc', 'gameCustomizationObjects': [], 'perks': {'perkIds': [8005, 9111, 9104, 8299, 8473, 8446, 5008, 5008, 5002], 'perkStyle': 8000, 'perkSubStyle': 8400}}\n",
      "{'teamId': 100, 'spell1Id': 11, 'spell2Id': 4, 'championId': 5, 'profileIconId': 1297, 'summonerName': '솔직히내가젤잘해', 'bot': False, 'summonerId': 'DtPYa-WKa9d3diD8fhhi_bISTVmnYYdveDB9EunjYYQ63g', 'gameCustomizationObjects': [], 'perks': {'perkIds': [8010, 9111, 9104, 8299, 8304, 8347, 5005, 5008, 5002], 'perkStyle': 8000, 'perkSubStyle': 8300}}\n",
      "{'teamId': 100, 'spell1Id': 12, 'spell2Id': 4, 'championId': 7, 'profileIconId': 3495, 'summonerName': 'Noticed', 'bot': False, 'summonerId': 'wSx0e6bXATIw9AeA-1fnNAsGNoWpmtRG_vqXPe9wX2JQUWs', 'gameCustomizationObjects': [], 'perks': {'perkIds': [8112, 8139, 8138, 8135, 8226, 8210, 5005, 5008, 5002], 'perkStyle': 8100, 'perkSubStyle': 8200}}\n",
      "{'teamId': 200, 'spell1Id': 4, 'spell2Id': 7, 'championId': 119, 'profileIconId': 4535, 'summonerName': 'cutebabyzz', 'bot': False, 'summonerId': 'JRaAw9zSz4ghsJKOwNkyYuVyOx0dvz33cOBQr8wHkshLOg0Qa0SyhuezYQ', 'gameCustomizationObjects': [], 'perks': {'perkIds': [9923, 8139, 8138, 8135, 8009, 9103, 5005, 5008, 5002], 'perkStyle': 8100, 'perkSubStyle': 8000}}\n",
      "{'teamId': 200, 'spell1Id': 11, 'spell2Id': 4, 'championId': 76, 'profileIconId': 4568, 'summonerName': '예민하네화나았네', 'bot': False, 'summonerId': 'bShKU1-bJ982IaDWoT1GvOAXWPtaSEcCuQo8PzHwpg1rXu0', 'gameCustomizationObjects': [], 'perks': {'perkIds': [8112, 8143, 8136, 8135, 8304, 8347, 5005, 5008, 5002], 'perkStyle': 8100, 'perkSubStyle': 8300}}\n",
      "{'teamId': 200, 'spell1Id': 4, 'spell2Id': 3, 'championId': 16, 'profileIconId': 6, 'summonerName': '조성민수호령', 'bot': False, 'summonerId': 'pE0qos0eyvO2sZgZ63UJh8g11GzYs4S1TeTo607drqpHMAo', 'gameCustomizationObjects': [], 'perks': {'perkIds': [8214, 8275, 8210, 8237, 8473, 8453, 5008, 5003, 5002], 'perkStyle': 8200, 'perkSubStyle': 8400}}\n",
      "{'teamId': 200, 'spell1Id': 4, 'spell2Id': 12, 'championId': 875, 'profileIconId': 2074, 'summonerName': 'yan hua y1 leng', 'bot': False, 'summonerId': '0A-eXRGMC0Z_0uzsQK_flXTci0poD6leuGdPFr49NlweQ1pez4U_Nvr9PQ', 'gameCustomizationObjects': [], 'perks': {'perkIds': [8010, 9111, 9105, 8299, 8473, 8242, 5005, 5008, 5002], 'perkStyle': 8000, 'perkSubStyle': 8400}}\n",
      "{'teamId': 200, 'spell1Id': 4, 'spell2Id': 12, 'championId': 64, 'profileIconId': 3839, 'summonerName': '어른제국의 침략', 'bot': False, 'summonerId': '3WgH0ZgG1xLsjv9VfPY9qsMfBCcMXQnUFzNP00MQcYCZRSLQQtnSyIqQlA', 'gameCustomizationObjects': [], 'perks': {'perkIds': [8010, 9111, 9105, 8299, 8444, 8453, 5005, 5008, 5003], 'perkStyle': 8000, 'perkSubStyle': 8400}}\n"
     ]
    }
   ],
   "source": [
    "team1 = []\n",
    "team2 = []\n",
    "target_team = \"\"\n",
    "\n",
    "\n",
    "for i in team:\n",
    "    print(i)\n",
    "    if i['summonerId'] == encryptedAccountId:\n",
    "        target_team = i['teamId']            \n",
    "    \n",
    "    if i['teamId']==100:\n",
    "        team1.append(i)\n",
    "        \n",
    "    else:\n",
    "        team2.append(i)\n",
    "        "
   ]
  },
  {
   "cell_type": "code",
   "execution_count": 9,
   "id": "0a6b467d",
   "metadata": {},
   "outputs": [],
   "source": [
    "if target_team == 100:\n",
    "    enamy = team2\n",
    "else:\n",
    "    enamy = team1"
   ]
  },
  {
   "cell_type": "code",
   "execution_count": 10,
   "id": "2af349df",
   "metadata": {},
   "outputs": [],
   "source": [
    "champion_name = champion_reader.champion_name"
   ]
  },
  {
   "cell_type": "code",
   "execution_count": 11,
   "id": "9d1261ef",
   "metadata": {},
   "outputs": [
    {
     "name": "stdout",
     "output_type": "stream",
     "text": [
      "결과\n",
      "{'id': '26TRnNsNjF2ENUrFCvkpSJ6XdpaPHEnTMum62DZZYHa_yo3JsLDmxwYNGA', 'accountId': 'ua4lQpFXiGslGUYh42Q1AhZ9dl7Daqq0gk7I_BkBgNXFyF6ts4KVWx3E', 'puuid': 'SdOXxjet59KiA9VDoXpLeevcULHopI-xzrSDecPkPu4mFoUPNLkWTouRRMOatjn9eFc3Jc_SPwI3rg', 'name': 'YTMCOXQHRLN', 'profileIconId': 19, 'revisionDate': 1627280328000, 'summonerLevel': 98}\n",
      "결과\n",
      "{'id': 'Xhz_MfGX9k_O08TQ-Z60S-UFlNloohp_QmBjzxMJSeyKM1AkKwAtgN6B7w', 'accountId': 'kbpThxYf7nYLuRRFUPx4lvcCRS3MSuTCd-F7HG7scVXQ244dfb71FMFK', 'puuid': '-Em4M5395Xcnn4EktMnR-vgJdFQPKNECro-Y7IRGKKCgCvyGnUgEqFRD_TnbjqBDjferoRQ_tfDeTw', 'name': '지는게싫다', 'profileIconId': 4928, 'revisionDate': 1627567235359, 'summonerLevel': 56}\n",
      "결과\n",
      "{'id': 'gGv5pZks9mUtLnadLO4e6oumCGl0ihZDe5FxhHmQbxLP8wc', 'accountId': 'wvAVXt8bbi-qsOFIUx-IkSVJQ3Axz68buAasJvP1TQQ1SF8', 'puuid': 'pGP528lx1hir5unYZkllsfsL_gMmzBtBmdupr1HR-6SIA56fOpE_ifZhYwMeLOhi5KxTci56ssXnkA', 'name': '나락 캐리', 'profileIconId': 4903, 'revisionDate': 1627153038000, 'summonerLevel': 410}\n",
      "결과\n",
      "{'id': 'DtPYa-WKa9d3diD8fhhi_bISTVmnYYdveDB9EunjYYQ63g', 'accountId': 'naUMWcRppSSb0CGpVipiqRFORnTlg3ncTsUw7lba6DCz', 'puuid': 'M8n1PeQTN-aBrtUSnoWc18fSa98PPtZOEowNAj-2REvd_86RUC7a_7ONMCffMoyu0W7YNxVi3mqq2Q', 'name': '솔직히내가젤잘해', 'profileIconId': 1297, 'revisionDate': 1627454798000, 'summonerLevel': 287}\n",
      "결과\n",
      "{'id': 'wSx0e6bXATIw9AeA-1fnNAsGNoWpmtRG_vqXPe9wX2JQUWs', 'accountId': 'O_fiaNCQk2tvfLjb7BWNBsUjC0PndFEnP8o6ndYTK8Z-BXSlE7m4YG-G', 'puuid': 'e7bp8ZfQDP7Rik7j7ZBTDawDXAUdUTGvfH7jmM3riW-hbGpF2Dzzpk4_P4A5H7F8hh5dfpqhEVz0pQ', 'name': 'Noticed', 'profileIconId': 3495, 'revisionDate': 1627545645407, 'summonerLevel': 272}\n"
     ]
    }
   ],
   "source": [
    "cn = []\n",
    "sn = []\n",
    "ei = []\n",
    "pi = []\n",
    "mh = []\n",
    "\n",
    "for i in enamy:\n",
    "    championName = champion_name(i['championId'])['name'][0]\n",
    "    summonerName = i['summonerName']\n",
    "    encryptedAccountId, puuid = get_user_id(i['summonerName'], Key)\n",
    "    \n",
    "    cn.append(championName)\n",
    "    sn.append(summonerName)\n",
    "    ei.append(encryptedAccountId)\n",
    "    pi.append(puuid)\n",
    "    mh.append(match_history(puuid, Key))\n",
    "    \n",
    "    \n",
    "    "
   ]
  },
  {
   "cell_type": "code",
   "execution_count": 12,
   "id": "1e5a484c",
   "metadata": {},
   "outputs": [],
   "source": [
    "enamy_dic = {\n",
    "    'championName' : cn,\n",
    "    'summonerName' : sn,\n",
    "    'encryptedAccountId' : ei,\n",
    "    'puuid' : pi,\n",
    "    'matchHistory' : mh\n",
    "}"
   ]
  },
  {
   "cell_type": "code",
   "execution_count": 13,
   "id": "638bf924",
   "metadata": {},
   "outputs": [],
   "source": [
    "enamy_df = pd.DataFrame(enamy_dic)"
   ]
  },
  {
   "cell_type": "code",
   "execution_count": 14,
   "id": "52415cde",
   "metadata": {},
   "outputs": [
    {
     "data": {
      "text/html": [
       "<div>\n",
       "<style scoped>\n",
       "    .dataframe tbody tr th:only-of-type {\n",
       "        vertical-align: middle;\n",
       "    }\n",
       "\n",
       "    .dataframe tbody tr th {\n",
       "        vertical-align: top;\n",
       "    }\n",
       "\n",
       "    .dataframe thead th {\n",
       "        text-align: right;\n",
       "    }\n",
       "</style>\n",
       "<table border=\"1\" class=\"dataframe\">\n",
       "  <thead>\n",
       "    <tr style=\"text-align: right;\">\n",
       "      <th></th>\n",
       "      <th>championName</th>\n",
       "      <th>summonerName</th>\n",
       "      <th>encryptedAccountId</th>\n",
       "      <th>puuid</th>\n",
       "      <th>matchHistory</th>\n",
       "    </tr>\n",
       "  </thead>\n",
       "  <tbody>\n",
       "    <tr>\n",
       "      <th>0</th>\n",
       "      <td>Kalista</td>\n",
       "      <td>YTMCOXQHRLN</td>\n",
       "      <td>26TRnNsNjF2ENUrFCvkpSJ6XdpaPHEnTMum62DZZYHa_yo...</td>\n",
       "      <td>SdOXxjet59KiA9VDoXpLeevcULHopI-xzrSDecPkPu4mFo...</td>\n",
       "      <td>[KR_5358851133, KR_5357898603, KR_5357825998, ...</td>\n",
       "    </tr>\n",
       "    <tr>\n",
       "      <th>1</th>\n",
       "      <td>Trundle</td>\n",
       "      <td>지는게싫다</td>\n",
       "      <td>Xhz_MfGX9k_O08TQ-Z60S-UFlNloohp_QmBjzxMJSeyKM1...</td>\n",
       "      <td>-Em4M5395Xcnn4EktMnR-vgJdFQPKNECro-Y7IRGKKCgCv...</td>\n",
       "      <td>[KR_5357992856, KR_5357941363, KR_5357809530, ...</td>\n",
       "    </tr>\n",
       "    <tr>\n",
       "      <th>2</th>\n",
       "      <td>Renekton</td>\n",
       "      <td>나락 캐리</td>\n",
       "      <td>gGv5pZks9mUtLnadLO4e6oumCGl0ihZDe5FxhHmQbxLP8wc</td>\n",
       "      <td>pGP528lx1hir5unYZkllsfsL_gMmzBtBmdupr1HR-6SIA5...</td>\n",
       "      <td>[KR_5353128196, KR_5353092125, KR_5352569614, ...</td>\n",
       "    </tr>\n",
       "    <tr>\n",
       "      <th>3</th>\n",
       "      <td>XinZhao</td>\n",
       "      <td>솔직히내가젤잘해</td>\n",
       "      <td>DtPYa-WKa9d3diD8fhhi_bISTVmnYYdveDB9EunjYYQ63g</td>\n",
       "      <td>M8n1PeQTN-aBrtUSnoWc18fSa98PPtZOEowNAj-2REvd_8...</td>\n",
       "      <td>[KR_5356638827, KR_5356538351, KR_5356570150, ...</td>\n",
       "    </tr>\n",
       "    <tr>\n",
       "      <th>4</th>\n",
       "      <td>Leblanc</td>\n",
       "      <td>Noticed</td>\n",
       "      <td>wSx0e6bXATIw9AeA-1fnNAsGNoWpmtRG_vqXPe9wX2JQUWs</td>\n",
       "      <td>e7bp8ZfQDP7Rik7j7ZBTDawDXAUdUTGvfH7jmM3riW-hbG...</td>\n",
       "      <td>[KR_5357801258, KR_5357776952, KR_5357657614, ...</td>\n",
       "    </tr>\n",
       "  </tbody>\n",
       "</table>\n",
       "</div>"
      ],
      "text/plain": [
       "  championName summonerName  \\\n",
       "0      Kalista  YTMCOXQHRLN   \n",
       "1      Trundle        지는게싫다   \n",
       "2     Renekton        나락 캐리   \n",
       "3      XinZhao     솔직히내가젤잘해   \n",
       "4      Leblanc      Noticed   \n",
       "\n",
       "                                  encryptedAccountId  \\\n",
       "0  26TRnNsNjF2ENUrFCvkpSJ6XdpaPHEnTMum62DZZYHa_yo...   \n",
       "1  Xhz_MfGX9k_O08TQ-Z60S-UFlNloohp_QmBjzxMJSeyKM1...   \n",
       "2    gGv5pZks9mUtLnadLO4e6oumCGl0ihZDe5FxhHmQbxLP8wc   \n",
       "3     DtPYa-WKa9d3diD8fhhi_bISTVmnYYdveDB9EunjYYQ63g   \n",
       "4    wSx0e6bXATIw9AeA-1fnNAsGNoWpmtRG_vqXPe9wX2JQUWs   \n",
       "\n",
       "                                               puuid  \\\n",
       "0  SdOXxjet59KiA9VDoXpLeevcULHopI-xzrSDecPkPu4mFo...   \n",
       "1  -Em4M5395Xcnn4EktMnR-vgJdFQPKNECro-Y7IRGKKCgCv...   \n",
       "2  pGP528lx1hir5unYZkllsfsL_gMmzBtBmdupr1HR-6SIA5...   \n",
       "3  M8n1PeQTN-aBrtUSnoWc18fSa98PPtZOEowNAj-2REvd_8...   \n",
       "4  e7bp8ZfQDP7Rik7j7ZBTDawDXAUdUTGvfH7jmM3riW-hbG...   \n",
       "\n",
       "                                        matchHistory  \n",
       "0  [KR_5358851133, KR_5357898603, KR_5357825998, ...  \n",
       "1  [KR_5357992856, KR_5357941363, KR_5357809530, ...  \n",
       "2  [KR_5353128196, KR_5353092125, KR_5352569614, ...  \n",
       "3  [KR_5356638827, KR_5356538351, KR_5356570150, ...  \n",
       "4  [KR_5357801258, KR_5357776952, KR_5357657614, ...  "
      ]
     },
     "execution_count": 14,
     "metadata": {},
     "output_type": "execute_result"
    }
   ],
   "source": [
    "enamy_df"
   ]
  },
  {
   "cell_type": "code",
   "execution_count": 15,
   "id": "039f98bd",
   "metadata": {},
   "outputs": [
    {
     "data": {
      "text/plain": [
       "0    [KR_5358851133, KR_5357898603, KR_5357825998, ...\n",
       "1    [KR_5357992856, KR_5357941363, KR_5357809530, ...\n",
       "2    [KR_5353128196, KR_5353092125, KR_5352569614, ...\n",
       "3    [KR_5356638827, KR_5356538351, KR_5356570150, ...\n",
       "4    [KR_5357801258, KR_5357776952, KR_5357657614, ...\n",
       "Name: matchHistory, dtype: object"
      ]
     },
     "execution_count": 15,
     "metadata": {},
     "output_type": "execute_result"
    }
   ],
   "source": [
    "enamy_df['matchHistory']"
   ]
  },
  {
   "cell_type": "code",
   "execution_count": null,
   "id": "45fada35",
   "metadata": {},
   "outputs": [],
   "source": [
    "def Match_data():\n",
    "    \n",
    "    \n",
    "    return"
   ]
  }
 ],
 "metadata": {
  "kernelspec": {
   "display_name": "Python 3",
   "language": "python",
   "name": "python3"
  },
  "language_info": {
   "codemirror_mode": {
    "name": "ipython",
    "version": 3
   },
   "file_extension": ".py",
   "mimetype": "text/x-python",
   "name": "python",
   "nbconvert_exporter": "python",
   "pygments_lexer": "ipython3",
   "version": "3.8.2"
  }
 },
 "nbformat": 4,
 "nbformat_minor": 5
}
